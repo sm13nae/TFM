{
  "cells": [
    {
      "cell_type": "code",
      "execution_count": null,
      "metadata": {
        "colab": {
          "base_uri": "https://localhost:8080/"
        },
        "id": "N8CuAGr9_rZy",
        "outputId": "8ebc71ab-8486-416f-fb8e-14fde1a2147d"
      },
      "outputs": [
        {
          "output_type": "stream",
          "name": "stdout",
          "text": [
            "Mounted at /GoogleDrive\n"
          ]
        }
      ],
      "source": [
        "from google.colab import drive\n",
        "drive.mount('/GoogleDrive', force_remount=True)"
      ]
    },
    {
      "cell_type": "code",
      "execution_count": null,
      "metadata": {
        "colab": {
          "base_uri": "https://localhost:8080/"
        },
        "id": "RlrWckqZhcPx",
        "outputId": "53f37adf-a387-479a-dac5-f3743593b558"
      },
      "outputs": [
        {
          "output_type": "stream",
          "name": "stdout",
          "text": [
            "PyTorch has version 2.0.1+cu118\n",
            "Looking in links: https://data.pyg.org/whl/torch-2.0.1+cu118.html\n",
            "Collecting torch-scatter\n",
            "  Downloading https://data.pyg.org/whl/torch-2.0.0%2Bcu118/torch_scatter-2.1.1%2Bpt20cu118-cp310-cp310-linux_x86_64.whl (10.2 MB)\n",
            "\u001b[2K     \u001b[90m━━━━━━━━━━━━━━━━━━━━━━━━━━━━━━━━━━━━━━━━\u001b[0m \u001b[32m10.2/10.2 MB\u001b[0m \u001b[31m48.8 MB/s\u001b[0m eta \u001b[36m0:00:00\u001b[0m\n",
            "\u001b[?25hInstalling collected packages: torch-scatter\n",
            "Successfully installed torch-scatter-2.1.1+pt20cu118\n",
            "Looking in links: https://data.pyg.org/whl/torch-2.0.1+cu118.html\n",
            "Collecting torch-sparse\n",
            "  Downloading https://data.pyg.org/whl/torch-2.0.0%2Bcu118/torch_sparse-0.6.17%2Bpt20cu118-cp310-cp310-linux_x86_64.whl (4.8 MB)\n",
            "\u001b[2K     \u001b[90m━━━━━━━━━━━━━━━━━━━━━━━━━━━━━━━━━━━━━━━━\u001b[0m \u001b[32m4.8/4.8 MB\u001b[0m \u001b[31m26.2 MB/s\u001b[0m eta \u001b[36m0:00:00\u001b[0m\n",
            "\u001b[?25hRequirement already satisfied: scipy in /usr/local/lib/python3.10/dist-packages (from torch-sparse) (1.10.1)\n",
            "Requirement already satisfied: numpy<1.27.0,>=1.19.5 in /usr/local/lib/python3.10/dist-packages (from scipy->torch-sparse) (1.22.4)\n",
            "Installing collected packages: torch-sparse\n",
            "Successfully installed torch-sparse-0.6.17+pt20cu118\n",
            "Collecting torch-geometric\n",
            "  Downloading torch_geometric-2.3.1.tar.gz (661 kB)\n",
            "\u001b[2K     \u001b[90m━━━━━━━━━━━━━━━━━━━━━━━━━━━━━━━━━━━━━━\u001b[0m \u001b[32m661.6/661.6 kB\u001b[0m \u001b[31m10.7 MB/s\u001b[0m eta \u001b[36m0:00:00\u001b[0m\n",
            "\u001b[?25h  Installing build dependencies ... \u001b[?25l\u001b[?25hdone\n",
            "  Getting requirements to build wheel ... \u001b[?25l\u001b[?25hdone\n",
            "  Preparing metadata (pyproject.toml) ... \u001b[?25l\u001b[?25hdone\n",
            "Requirement already satisfied: tqdm in /usr/local/lib/python3.10/dist-packages (from torch-geometric) (4.65.0)\n",
            "Requirement already satisfied: numpy in /usr/local/lib/python3.10/dist-packages (from torch-geometric) (1.22.4)\n",
            "Requirement already satisfied: scipy in /usr/local/lib/python3.10/dist-packages (from torch-geometric) (1.10.1)\n",
            "Requirement already satisfied: jinja2 in /usr/local/lib/python3.10/dist-packages (from torch-geometric) (3.1.2)\n",
            "Requirement already satisfied: requests in /usr/local/lib/python3.10/dist-packages (from torch-geometric) (2.27.1)\n",
            "Requirement already satisfied: pyparsing in /usr/local/lib/python3.10/dist-packages (from torch-geometric) (3.1.0)\n",
            "Requirement already satisfied: scikit-learn in /usr/local/lib/python3.10/dist-packages (from torch-geometric) (1.2.2)\n",
            "Requirement already satisfied: psutil>=5.8.0 in /usr/local/lib/python3.10/dist-packages (from torch-geometric) (5.9.5)\n",
            "Requirement already satisfied: MarkupSafe>=2.0 in /usr/local/lib/python3.10/dist-packages (from jinja2->torch-geometric) (2.1.3)\n",
            "Requirement already satisfied: urllib3<1.27,>=1.21.1 in /usr/local/lib/python3.10/dist-packages (from requests->torch-geometric) (1.26.16)\n",
            "Requirement already satisfied: certifi>=2017.4.17 in /usr/local/lib/python3.10/dist-packages (from requests->torch-geometric) (2023.5.7)\n",
            "Requirement already satisfied: charset-normalizer~=2.0.0 in /usr/local/lib/python3.10/dist-packages (from requests->torch-geometric) (2.0.12)\n",
            "Requirement already satisfied: idna<4,>=2.5 in /usr/local/lib/python3.10/dist-packages (from requests->torch-geometric) (3.4)\n",
            "Requirement already satisfied: joblib>=1.1.1 in /usr/local/lib/python3.10/dist-packages (from scikit-learn->torch-geometric) (1.3.1)\n",
            "Requirement already satisfied: threadpoolctl>=2.0.0 in /usr/local/lib/python3.10/dist-packages (from scikit-learn->torch-geometric) (3.1.0)\n",
            "Building wheels for collected packages: torch-geometric\n",
            "  Building wheel for torch-geometric (pyproject.toml) ... \u001b[?25l\u001b[?25hdone\n",
            "  Created wheel for torch-geometric: filename=torch_geometric-2.3.1-py3-none-any.whl size=910459 sha256=20005265e5b49ecb91f7a3d10371cc9793491dc63ea68fc581c16d0bf44413c3\n",
            "  Stored in directory: /root/.cache/pip/wheels/ac/dc/30/e2874821ff308ee67dcd7a66dbde912411e19e35a1addda028\n",
            "Successfully built torch-geometric\n",
            "Installing collected packages: torch-geometric\n",
            "Successfully installed torch-geometric-2.3.1\n",
            "2.0.1+cu118\n"
          ]
        }
      ],
      "source": [
        "#!pip install torch==2.0.0\n",
        "import pandas as pd\n",
        "import torch\n",
        "import numpy as np\n",
        "from datetime import timedelta\n",
        "from tqdm import tqdm\n",
        "import os\n",
        "\n",
        "os.environ['TORCH'] = torch.__version__\n",
        "\n",
        "print(\"PyTorch has version {}\".format(torch.__version__))\n",
        "\n",
        "!pip install torch-scatter -f https://data.pyg.org/whl/torch-${TORCH}.html\n",
        "\n",
        "!pip install torch-sparse -f https://data.pyg.org/whl/torch-${TORCH}.html\n",
        "\n",
        "!pip install torch-geometric\n",
        "\n",
        "pt_version = torch.__version__\n",
        "print(pt_version)"
      ]
    },
    {
      "cell_type": "markdown",
      "metadata": {
        "id": "EClj7o2H3CSq"
      },
      "source": []
    },
    {
      "cell_type": "code",
      "execution_count": null,
      "metadata": {
        "id": "YDGJLymq0Qwd"
      },
      "outputs": [],
      "source": [
        "from torch_geometric.data import InMemoryDataset, Data\n",
        "from shutil import copyfile\n",
        "\n",
        "\n",
        "def distance_to_weight(W, sigma2=0.1, epsilon=0.9, gat_version=False):\n",
        "    \"\"\"\"\n",
        "    Given distances between all nodes, convert into a weight matrix\n",
        "    :param W distances\n",
        "    :param sigma2 User configurable parameter to adjust sparsity of matrix\n",
        "    :param epsilon User configurable parameter to adjust sparsity of matrix\n",
        "    :param gat_version If true, use 0/1 weights with self loops. Otherwise, use float\n",
        "    \"\"\"\n",
        "    n = W.shape[0]\n",
        "    W = W / 10.\n",
        "    W2, W_mask = W * W, np.ones([n, n]) - np.identity(n)\n",
        "    # refer to Eq.10\n",
        "    W = np.exp(-W2 / sigma2) * (np.exp(-W2 / sigma2) >= epsilon) * W_mask\n",
        "\n",
        "    # If using the gat version of this, round to 0/1 and include self loops\n",
        "    if gat_version:\n",
        "        W[W>0] = 1\n",
        "        W += np.identity(n)\n",
        "\n",
        "    return W\n",
        "\n",
        "class TrafficDataset(InMemoryDataset):\n",
        "    \"\"\"\n",
        "    Dataset for Graph Neural Networks.\n",
        "    \"\"\"\n",
        "    def __init__(self, config, root='', transform=None, pre_transform=None):\n",
        "        self.config = config\n",
        "        #self.W = W\n",
        "        super().__init__(root, transform, pre_transform)\n",
        "        self.data, self.slices = torch.load(self.processed_paths[0])\n",
        "\n",
        "    @property\n",
        "    def raw_file_names(self):\n",
        "        return [os.path.join(self.raw_dir, '/GoogleDrive/My Drive/Colab Notebooks/datasets/bike_data_new.csv')]\n",
        "        #'/GoogleDrive/My Drive/Colab Notebooks/datasets/PeMSD7_V_2283.csv'\n",
        "    @property\n",
        "    def processed_file_names(self):\n",
        "        return ['/GoogleDrive/My Drive/Colab Notebooks/datasets/taxitesttimeseriesweather.pt']\n",
        "        #'/GoogleDrive/My Drive/Colab Notebooks/datasets/taxitesttimeseries.pt'\n",
        "    def download(self):\n",
        "        pass\n",
        "        #copyfile('/GoogleDrive/My Drive/Colab Notebooks/datasets/bike_data_new.csv', os.path.join(self.raw_dir, '/GoogleDrive/My Drive/Colab Notebooks/datasets/bike_data_new.csv'))\n",
        "        #'/GoogleDrive/My Drive/Colab Notebooks/datasets/PeMSD7_V_2283.csv'\n",
        "    def process(self):\n",
        "        \"\"\"\n",
        "        Process the raw datasets into saved .pt dataset for later use.\n",
        "        Note that any self.fields here wont exist if loading straight from the .pt file\n",
        "        \"\"\"\n",
        "        # Data Preprocessing and loading\n",
        "        data = pd.read_csv(self.raw_file_names[0], header=None).values\n",
        "        holidays = pd.read_csv('/GoogleDrive/My Drive/Colab Notebooks/datasets/timeseries.csv').values\n",
        "        weather = pd.read_csv('/GoogleDrive/My Drive/Colab Notebooks/datasets/weather.csv').values\n",
        "\n",
        "        data = z_score(data, np.mean(data), np.std(data))\n",
        "        n_window = self.config['N_PRED'] + self.config['SHIFT'] +  self.config['N_HIST']\n",
        "\n",
        "        sequences = []\n",
        "        #print(\"before loop\")\n",
        "        # T x F x N\n",
        "        for i in range(self.config['N_DAYS']):\n",
        "            if i%100 == 0:\n",
        "              print(\"done with\" + str(i))\n",
        "            for j in range(self.config['N_SLOT']):\n",
        "                # for each time point construct a different graph with data object\n",
        "                # Docs here: https://pytorch-geometric.readthedocs.io/en/latest/modules/data.html#torch_geometric.data.Data\n",
        "                g = Data()\n",
        "\n",
        "                sta = i * self.config['N_DAY_SLOT'] + j\n",
        "                end = sta + n_window\n",
        "\n",
        "                full_window = np.swapaxes(data[sta:end, :], 0, 1)\n",
        "                full_window_holidays = np.swapaxes(holidays[sta:end, :], 0, 1)\n",
        "                full_window_weather = np.swapaxes(weather[sta:end, :], 0, 1)\n",
        "                g.x = torch.FloatTensor(full_window[:, 0:self.config['N_HIST']])\n",
        "                g.timeseries = full_window_holidays[:, self.config['N_HIST']-1]\n",
        "                g.weather = full_window_weather[:, self.config['N_HIST']-1]\n",
        "                g.y = torch.FloatTensor(full_window[:, self.config['N_HIST']+self.config['SHIFT']:])\n",
        "                sequences += [g]\n",
        "\n",
        "        # Make the actual dataset\n",
        "        #print(\"done with loop\")\n",
        "        data, slices = self.collate(sequences)\n",
        "        torch.save((data, slices), self.processed_paths[0],)\n",
        "\n",
        "def get_splits(dataset: TrafficDataset, n_slot, splits):\n",
        "    \"\"\"\n",
        "    Given the data, split it into random subsets of train, val, and test as given by splits\n",
        "    :param dataset: TrafficDataset object to split\n",
        "    :param n_slot: Number of possible sliding windows in a day\n",
        "    :param splits: (train, val, test) ratios\n",
        "    \"\"\"\n",
        "    split_train, split_val, _ = splits\n",
        "    i = n_slot*split_train\n",
        "    j = n_slot*split_val\n",
        "    train = dataset[:i]\n",
        "    val = dataset[i:i+j]\n",
        "    test = dataset[i+j:]\n",
        "\n",
        "    return train, val, test\n"
      ]
    },
    {
      "cell_type": "code",
      "execution_count": null,
      "metadata": {
        "id": "QQSzRo1N0ZfD"
      },
      "outputs": [],
      "source": [
        "import torch\n",
        "import torch.nn.functional as F\n",
        "from torch_geometric.nn import GATConv\n",
        "\n",
        "\n",
        "class ST_GAT(torch.nn.Module):\n",
        "    \"\"\"\n",
        "    Spatio-Temporal Graph Attention Network as presented in https://ieeexplore.ieee.org/document/8903252\n",
        "    \"\"\"\n",
        "    def __init__(self, in_channels, out_channels, n_nodes, heads=32, dropout=0.0): #32\n",
        "        \"\"\"\n",
        "        Initialize the ST-GAT model\n",
        "        :param in_channels Number of input channels\n",
        "        :param out_channels Number of output channels\n",
        "        :param n_nodes Number of nodes in the graph\n",
        "        :param heads Number of attention heads to use in graph\n",
        "        :param dropout Dropout probability on output of Graph Attention Network\n",
        "        \"\"\"\n",
        "        super(ST_GAT, self).__init__()\n",
        "        self.n_pred = out_channels\n",
        "        self.heads = heads\n",
        "        self.dropout = dropout\n",
        "        self.n_nodes = n_nodes\n",
        "\n",
        "        lstm1_hidden_size = 256 #256\n",
        "        lstm2_hidden_size = 512 #512\n",
        "\n",
        "        # single graph attentional layer with 8 attention heads\n",
        "        self.gat = GATConv(in_channels=in_channels, out_channels=in_channels,\n",
        "            heads=heads, dropout=0.1, concat=False)\n",
        "\n",
        "        # add two LSTM layers\n",
        "        self.lstm1 = torch.nn.LSTM(input_size=self.n_nodes, hidden_size=lstm1_hidden_size, num_layers=1)\n",
        "        for name, param in self.lstm1.named_parameters():\n",
        "            if 'bias' in name:\n",
        "                torch.nn.init.constant_(param, 0.0)\n",
        "            elif 'weight' in name:\n",
        "                torch.nn.init.xavier_uniform_(param)\n",
        "        self.lstm2 = torch.nn.LSTM(input_size=lstm1_hidden_size, hidden_size=lstm2_hidden_size, num_layers=1)\n",
        "        for name, param in self.lstm1.named_parameters():\n",
        "            if 'bias' in name:\n",
        "                torch.nn.init.constant_(param, 0.0)\n",
        "            elif 'weight' in name:\n",
        "                torch.nn.init.xavier_uniform_(param) #xavier_uniform_\n",
        "\n",
        "\n",
        "\n",
        "        self.linear = torch.nn.Linear(lstm2_hidden_size, self.n_nodes*self.n_pred)\n",
        "        torch.nn.init.xavier_uniform_(self.linear.weight)\n",
        "\n",
        "        self.timeseries = torch.nn.Linear(8,self.n_nodes)\n",
        "        torch.nn.init.xavier_uniform_(self.timeseries.weight)\n",
        "\n",
        "        self.fc = torch.nn.Linear(6, 4)\n",
        "\n",
        "        torch.nn.init.xavier_uniform_(self.fc.weight)\n",
        "\n",
        "        # fully-connected neural network\n",
        "        self.linear_relu_stack = torch.nn.Sequential(\n",
        "            torch.nn.Linear(self.n_pred+2, 128), #+2\n",
        "            torch.nn.ReLU(),\n",
        "            torch.nn.Linear(128, 128),\n",
        "            torch.nn.ReLU(),\n",
        "            torch.nn.Linear(128, self.n_pred),\n",
        "        )\n",
        "\n",
        "        self.lstm3 = torch.nn.LSTM(input_size=6, hidden_size = self.n_nodes, num_layers=1)\n",
        "        for name, param in self.lstm3.named_parameters():\n",
        "            if 'bias' in name:\n",
        "                torch.nn.init.constant_(param, 0.0)\n",
        "            elif 'weight' in name:\n",
        "                torch.nn.init.xavier_uniform_(param)\n",
        "\n",
        "\n",
        "    def forward(self, data, device):\n",
        "        \"\"\"\n",
        "        Forward pass of the ST-GAT model\n",
        "        :param data Data to make a pass on\n",
        "        :param device Device to operate on\n",
        "        \"\"\"\n",
        "        x = data.x\n",
        "        t = np.array(data.timeseries)\n",
        "        w = np.array(data.weather)\n",
        "\n",
        "        # apply dropout\n",
        "        if device == 'cpu':\n",
        "            x = torch.FloatTensor(x)\n",
        "            t = torch.FloatTensor(t)\n",
        "            w = torch.FloatTensor(w)\n",
        "        else:\n",
        "            x = torch.cuda.FloatTensor(x)\n",
        "            t = torch.cuda.FloatTensor(t)\n",
        "            w = torch.cuda.FloatTensor(w)\n",
        "\n",
        "        # gat layer\n",
        "        x = self.gat(x, edge_index, edge_attr)\n",
        "\n",
        "        # RNN: 2 LSTM\n",
        "        # [batchsize*n_nodes, seq_length] -> [batch_size, n_nodes, seq_length]\n",
        "        batch_size = data.num_graphs\n",
        "        n_node = int(data.num_nodes/batch_size)\n",
        "        x = torch.reshape(x, (batch_size, n_node, data.num_features))\n",
        "        # for lstm: x should be (seq_length, batch_size, n_nodes)\n",
        "        # sequence length = 12, batch_size = 50, n_node = 258\n",
        "        x = torch.movedim(x, 2, 0)\n",
        "        # [12, 50, 258] -> [12, 50, 256]\n",
        "        x, _ = self.lstm1(x)\n",
        "        # [12, 50, 256] -> [12, 50, 512]\n",
        "        x, _ = self.lstm2(x)\n",
        "\n",
        "        # Output contains h_t for each timestep, only the last one has all input's accounted for\n",
        "        # [12, 50, 512] -> [50, 512]\n",
        "        x = torch.squeeze(x[-1, :, :])\n",
        "        # [50, 512] -> [50, 258*4]\n",
        "        x = self.linear(x)\n",
        "\n",
        "        t = self.timeseries(t)\n",
        "        t = t.flatten().unsqueeze(-1)\n",
        "\n",
        "        w, _ = self.lstm3(w)\n",
        "        w = w.flatten().unsqueeze(-1)\n",
        "\n",
        "        # Now reshape into final output\n",
        "        s = x.shape\n",
        "        # [50, 258*4] -> [50, 258, 4]\n",
        "        x = torch.reshape(x, (s[0], self.n_nodes, self.n_pred))\n",
        "\n",
        "        # [50, 258, 4] ->  [12900, 4]\n",
        "        x = torch.reshape(x, (s[0]*self.n_nodes, self.n_pred))\n",
        "\n",
        "        # Bring the three modules together\n",
        "        x3 = torch.cat([x,t,w], dim = 1)\n",
        "        x3 = self.linear_relu_stack(x3)\n",
        "\n",
        "        return x3\n"
      ]
    },
    {
      "cell_type": "code",
      "source": [
        "@torch.no_grad()\n",
        "def eval(model, device, dataloader, type=''):\n",
        "    \"\"\"\n",
        "    Evaluation function to evaluate model on data\n",
        "    :param model Model to evaluate\n",
        "    :param device Device to evaluate on\n",
        "    :param dataloader Data loader\n",
        "    :param type Name of evaluation type, e.g. Train/Val/Test\n",
        "    \"\"\"\n",
        "    model.eval()\n",
        "    model.to(device)\n",
        "\n",
        "\n",
        "    \"\"\"rmse1 = 0\n",
        "    rmse2 = 0\n",
        "    rmse3 = 0\n",
        "    rmse4 = 0\n",
        "    rmse5 = 0\n",
        "    rmse6 = 0\n",
        "    rmse7 = 0\n",
        "    rmse8 = 0\"\"\"\n",
        "    rmse = 0\n",
        "    mae = 0\n",
        "    quant = 0\n",
        "    n = 0\n",
        "\n",
        "    # Evaluate model on all data\n",
        "    for i, batch in enumerate(dataloader):\n",
        "        batch = batch.to(device)\n",
        "        if batch.x.shape[0] == 1:\n",
        "            pass\n",
        "        else:\n",
        "            with torch.no_grad():\n",
        "                pred = model(batch, device)\n",
        "            truth = batch.y.view(pred.shape)\n",
        "            if i == 0:\n",
        "                y_pred = torch.zeros(len(dataloader), pred.shape[0], pred.shape[1])\n",
        "                y_truth = torch.zeros(len(dataloader), pred.shape[0], pred.shape[1])\n",
        "\n",
        "            truth = un_z_score(truth, mean, std_dev)\n",
        "            pred = un_z_score(pred, mean, std_dev)\n",
        "            y_pred[i, :pred.shape[0], :] = pred\n",
        "            y_truth[i, :pred.shape[0], :] = truth\n",
        "\n",
        "            tensors = torch.split(truth, 1, dim=1)\n",
        "            tensors2 = torch.split(pred, 1, dim=1)\n",
        "            rmse += RMSE(truth, pred)\n",
        "            mae += MAE(truth, pred)\n",
        "            quant += UPE(truth,pred)\n",
        "\n",
        "            \"\"\"truth0 = tensors[0]\n",
        "            truth1 = tensors[1]\n",
        "            truth2 = tensors[2]\n",
        "            truth3 = tensors[3]\n",
        "            truth4 = tensors[4]\n",
        "            truth5 = tensors[5]\n",
        "            truth6 = tensors[6]\n",
        "            truth7 = tensors[7]\n",
        "\n",
        "            pred0 = tensors2[0]\n",
        "            pred1 = tensors2[1]\n",
        "            pred2 = tensors2[2]\n",
        "            pred3 = tensors2[3]\n",
        "            pred4 = tensors2[4]\n",
        "            pred5 = tensors2[5]\n",
        "            pred6 = tensors2[6]\n",
        "            pred7 = tensors2[7]\n",
        "\n",
        "\n",
        "            rmse1 += RMSE(truth0, pred0)\n",
        "            rmse2 += RMSE(truth1, pred1)\n",
        "            rmse3 += RMSE(truth2, pred2)\n",
        "            rmse4 += RMSE(truth3, pred3)\n",
        "            rmse5 += RMSE(truth4, pred4)\n",
        "            rmse6 += RMSE(truth5, pred5)\n",
        "            rmse7 += RMSE(truth6, pred6)\n",
        "            rmse8 += RMSE(truth7, pred7)\"\"\"\n",
        "            n += 1\n",
        "\n",
        "    #rmse1, rmse2, rmse3, rmse4, rmse, mae, quant = rmse1 / n, rmse2 / n, rmse3 / n, rmse4/n, rmse/n, mae/n, quant/n\n",
        "    #rmse1, rmse2, rmse3, rmse4,rmse5,rmse6,rmse7,rmse8, rmse, mae, quant = rmse1 / n, rmse2 / n, rmse3 / n, rmse4/n,rmse5/n,rmse6/n,rmse7/n,rmse8/n, rmse/n, mae/n, quant/n\n",
        "    #print(f'{type}, RMSE1: {rmse1}, RMSE2: {rmse2}, RMSE3: {rmse3}, RMSE4: {rmse4}, RMSE5: {rmse5},RMSE6: {rmse6},RMSE7: {rmse7},RMSE8: {rmse8},RMSE:{rmse} , MAE:{mae}, UPE:{quant} ')\n",
        "    rmse, mae, quant =  rmse/n, mae/n, quant/n\n",
        "    print(rmse)\n",
        "    #get the average score for each metric in each batch\n",
        "    return rmse, mae, quant,  y_pred, y_truth\n",
        "    #return round(rmse1.item(),3), round(rmse2.item(),3), round(rmse3.item(),3),round(rmse4.item(),3),rmse, mae, quant,  y_pred, y_truth\n",
        "\n",
        "def train(model, device, dataloader, optimizer, loss_fn, epoch, edge_index):\n",
        "    \"\"\"\n",
        "    Evaluation function to evaluate model on data\n",
        "    :param model Model to evaluate\n",
        "    :param device Device to evaluate on\n",
        "    :param dataloader Data loader\n",
        "    :param optimizer Optimizer to use\n",
        "    :param loss_fn Loss function\n",
        "    :param epoch Current epoch\n",
        "    \"\"\"\n",
        "    model.train()\n",
        "    for _, batch in enumerate(tqdm(dataloader, desc=f\"Epoch {epoch}\")):\n",
        "        batch.edge_index = edge_index\n",
        "        #print(batch)\n",
        "        batch = batch.to(device)\n",
        "        optimizer.zero_grad()\n",
        "        y_pred = torch.squeeze(model(batch, device))\n",
        "        loss = loss_fn()(y_pred.float(), torch.squeeze(batch.y).float())\n",
        "        loss.backward()\n",
        "        optimizer.step()\n",
        "\n",
        "    return loss"
      ],
      "metadata": {
        "id": "LoAbU6Lz8QfX"
      },
      "execution_count": null,
      "outputs": []
    },
    {
      "cell_type": "code",
      "execution_count": null,
      "metadata": {
        "id": "iX72UG7R0of9"
      },
      "outputs": [],
      "source": [
        "def z_score(x, mean, std):\n",
        "    \"\"\"\n",
        "    Z-score normalization function: $z = (X - \\mu) / \\sigma $,\n",
        "    where z is the z-score, X is the value of the element,\n",
        "    $\\mu$ is the population mean, and $\\sigma$ is the standard deviation.\n",
        "    :param x: torch array, input array to be normalized.\n",
        "    :param mean: float, the value of mean.\n",
        "    :param std: float, the value of standard deviation.\n",
        "    :return: torch array, z-score normalized array.\n",
        "    \"\"\"\n",
        "    return (x - mean) / std\n",
        "\n",
        "def un_z_score(x_normed, mean, std):\n",
        "    \"\"\"\n",
        "    Undo the Z-score calculation\n",
        "    :param x_normed: torch array, input array to be un-normalized.\n",
        "    :param mean: float, the value of mean.\n",
        "    :param std: float, the value of standard deviation.\n",
        "    \"\"\"\n",
        "    return x_normed * std  + mean\n",
        "\n",
        "\n",
        "def MAPE(v, v_):\n",
        "    \"\"\"\n",
        "    Mean absolute percentage error, given as a % (e.g. 99 -> 99%)\n",
        "    :param v: torch array, ground truth.\n",
        "    :param v_: torch array, prediction.\n",
        "    :return: torch scalar, MAPE averages on all elements of input.\n",
        "    \"\"\"\n",
        "    return torch.mean(torch.abs((v_ - v)) /(v + 1e-15) * 100)\n",
        "\n",
        "\n",
        "def RMSE(v, v_):\n",
        "    \"\"\"\n",
        "    Mean squared error.\n",
        "    :param v: torch array, ground truth.\n",
        "    :param v_: torch array, prediction.\n",
        "    :return: torch scalar, RMSE averages on all elements of input.\n",
        "    \"\"\"\n",
        "    return torch.sqrt(torch.mean((v_ - v) ** 2))\n",
        "\n",
        "\n",
        "def MAE(v, v_):\n",
        "    \"\"\"\n",
        "    Mean absolute error.\n",
        "    :param v: torch array, ground truth.\n",
        "    :param v_: torch array, prediction.\n",
        "    :return: torch scalar, MAE averages on all elements of input.\n",
        "    \"\"\"\n",
        "    return torch.mean(torch.abs(v_ - v))\n",
        "\n",
        "def UPE(v, v_, penalty_factor=3):\n",
        "    # Ensure input tensors are of the same shape\n",
        "    assert v.shape == v_.shape, \"Input tensors must be of the same shape\"\n",
        "\n",
        "    # Compute difference\n",
        "    diff = v - v_\n",
        "\n",
        "    # Apply penalty to the cases where prediction is less than ground truth\n",
        "    diff[diff > 0] *= penalty_factor\n",
        "\n",
        "    # Average difference as a simple measure\n",
        "    mean_diff = torch.mean(torch.abs(diff))\n",
        "\n",
        "    return mean_diff\n"
      ]
    },
    {
      "cell_type": "code",
      "execution_count": null,
      "metadata": {
        "id": "JqrUQpXU0ut3"
      },
      "outputs": [],
      "source": [
        "import torch\n",
        "import torch.optim as optim\n",
        "from tqdm import tqdm\n",
        "import time\n",
        "import os\n",
        "import matplotlib.pyplot as plt\n",
        "\n",
        "\n",
        "def model_train(train_dataloader, val_dataloader, config, device, edge_index):\n",
        "    \"\"\"\n",
        "    Train the ST-GAT model. Evaluate on validation dataset as you go.\n",
        "    :param train_dataloader Data loader of training dataset\n",
        "    :param val_dataloader Dataloader of val dataset\n",
        "    :param config configuration to use\n",
        "    :param device Device to evaluate on\n",
        "    \"\"\"\n",
        "\n",
        "    # Make the model. Each datapoint in the graph is 228x12: N x F (N = # nodes, F = time window)\n",
        "    model = ST_GAT(in_channels=config['N_HIST'], out_channels=config['N_PRED'], n_nodes=config['N_NODE'], dropout=config['DROPOUT'])\n",
        "    optimizer = optim.Adam(model.parameters(), lr=config['INITIAL_LR'], weight_decay=config['WEIGHT_DECAY'])\n",
        "    #optimizer = optim.SGD(model.parameters(), lr=config['INITIAL_LR'], momentum=0.9, nesterov=True)\n",
        "    #optimizer = optim.Adagrad(model.parameters(), lr=config['INITIAL_LR'], weight_decay=config['WEIGHT_DECAY'])\n",
        "    #optimizer = optim.RMSprop(model.parameters(), lr=config['INITIAL_LR'], weight_decay=config['WEIGHT_DECAY'], momentum = 0.9)\n",
        "    #optimizer = optim.Rprop(model.parameters(), lr=config['INITIAL_LR'])\n",
        "\n",
        "\n",
        "    loss_fn = torch.nn.MSELoss\n",
        "\n",
        "    model.to(device)\n",
        "\n",
        "    losslist = []\n",
        "\n",
        "    # For every epoch, train the model on training dataset. Evaluate model on validation dataset\n",
        "    for epoch in range(config['EPOCHS']):\n",
        "        loss = train(model, device, train_dataloader, optimizer, loss_fn, epoch, edge_index)\n",
        "        losslist.append(loss)\n",
        "        print(f\"Loss: {loss:.3f}\")\n",
        "        if (epoch+1) % 10 == 0:\n",
        "            eval(model, device, train_dataloader, 'Train')\n",
        "            eval(model, device, val_dataloader, 'Valid')\n",
        "\n",
        "    # Save the model\n",
        "    timestr = time.strftime(\"%m-%d-%H%M%S\")\n",
        "    torch.save({\n",
        "            \"epoch\": epoch,\n",
        "            \"model_state_dict\": model.state_dict(),\n",
        "            \"optimizer_state_dict\": optimizer.state_dict(),\n",
        "            \"loss\": losslist,\n",
        "            }, os.path.join(config[\"CHECKPOINT_DIR\"], f\"model_{timestr}.pt\"))\n",
        "\n",
        "    return model\n",
        "\n",
        "def model_test(model, test_dataloader, device, config):\n",
        "    \"\"\"\n",
        "    Test the ST-GAT model\n",
        "    :param test_dataloader Data loader of test dataset\n",
        "    :param device Device to evaluate on\n",
        "    \"\"\"\n",
        "    _, _, _, y_pred, y_truth = eval(model, device, test_dataloader, 'Test')\n"
      ]
    },
    {
      "cell_type": "code",
      "source": [
        "# Constant config to use throughout\n",
        "config = {\n",
        "    'BATCH_SIZE': 128, #50\n",
        "    'EPOCHS': 10, #60\n",
        "    'WEIGHT_DECAY': 1e-5, #5e-5\n",
        "    'INITIAL_LR': 1e-4, #3e-4\n",
        "    'CHECKPOINT_DIR': '/GoogleDrive/My Drive/Colab Notebooks/datasets/runs',\n",
        "    'N_PRED': 4,\n",
        "    'SHIFT': 4,\n",
        "    'N_HIST': 4,\n",
        "    'DROPOUT': 0.1,\n",
        "    # number of possible 15 minute measurements per day\n",
        "    'N_DAY_SLOT': 96,\n",
        "    # number of days worth of data in the dataset\n",
        "    'N_DAYS': 2617, #2439 2617\n",
        "    # If false, use GCN paper weight matrix, if true, use GAT paper weight matrix\n",
        "    'USE_GAT_WEIGHTS': True,\n",
        "    'N_NODE': 258 #258, 428\n",
        "}\n",
        "\n",
        "config['N_SLOT']= config['N_DAY_SLOT'] - (config['N_PRED']+config['SHIFT']+config['N_HIST']) + 1"
      ],
      "metadata": {
        "id": "syXHV_tttANp"
      },
      "execution_count": null,
      "outputs": []
    },
    {
      "cell_type": "code",
      "execution_count": null,
      "metadata": {
        "colab": {
          "base_uri": "https://localhost:8080/"
        },
        "id": "28bMPM_QH94D",
        "outputId": "912a3970-fdb5-4370-acb0-2a5a0f6906fd"
      },
      "outputs": [
        {
          "output_type": "stream",
          "name": "stdout",
          "text": [
            "Using cuda\n",
            "TrafficDataset(31025)\n"
          ]
        }
      ],
      "source": [
        "from torch_geometric.loader import DataLoader\n",
        "import math\n",
        "import random\n",
        "\n",
        "# Number of possible windows in a day\n",
        "\n",
        "\n",
        "# Load the weight and dataset dataset\n",
        "#distances = pd.read_csv('/GoogleDrive/My Drive/Colab Notebooks/datasets/PeMSD7_W_2283.csv', header=None).values\n",
        "#W = distance_to_weight(distances, gat_version=config['USE_GAT_WEIGHTS'])\n",
        "W = pd.read_csv('/GoogleDrive/My Drive/Colab Notebooks/datasets/taxi_weights_30.csv', index_col=0).values\n",
        "#W = pd.read_csv('/GoogleDrive/My Drive/Colab Notebooks/datasets/bike_weights_30.csv', index_col=0).values\n",
        "\n",
        "device = 'cuda' if torch.cuda.is_available() else 'cpu'\n",
        "print(f\"Using {device}\")\n",
        "\n",
        "dataset = TrafficDataset(config)\n",
        "\n",
        "\n",
        "# total of 44 days in the dataset, use 34 for training, 5 for val, 5 for test\n",
        "d_train, d_val, d_test = get_splits(dataset, config['N_SLOT'], (1826, 365, 426)) #1826 1648\n",
        "#d_train, d_val, d_test = get_splits(dataset, config['N_SLOT'], (182, 36, 42)) #1826 1648\n",
        "\n",
        "\n",
        "\"\"\"num_values_to_mask = round(config[\"N_HIST\"] * config[\"N_NODE\"] * 0.3)\n",
        "\n",
        "for data in d_test:\n",
        "    all_indices = torch.randperm(data.x.numel())\n",
        "    mask_indices = all_indices[:num_values_to_mask]\n",
        "\n",
        "    # get the flat view of x only once, to avoid calling view multiple times\n",
        "    data_x_flat = data.x.view(-1)\n",
        "\n",
        "    # update the values using vectorized operations\n",
        "    data_x_flat[mask_indices] = 0\"\"\"\n",
        "\n",
        "\n",
        "\n",
        "\"\"\"def generate_unique_random_values(n, k):\n",
        "    if k > n:\n",
        "        raise ValueError(\"k should be less than or equal to n\")\n",
        "\n",
        "    unique_values = set()\n",
        "    while len(unique_values) < k:\n",
        "        unique_values.add(random.randint(0, n-1))\n",
        "\n",
        "    return list(unique_values)\n",
        "\n",
        "\n",
        "def remove_nodes(adj_matrix, nodes_to_remove):\n",
        "    adj_matrix[nodes_to_remove, :] = 0\n",
        "    adj_matrix[:, nodes_to_remove] = 0\n",
        "    return adj_matrix\n",
        "\n",
        "\n",
        "\n",
        "test = generate_unique_random_values(config[\"N_NODE\"], round(config[\"N_NODE\"] * 0.99))\n",
        "\n",
        "W = remove_nodes(W, test)\"\"\"\n",
        "\n",
        "train_dataloader = DataLoader(d_train, batch_size=config['BATCH_SIZE'], shuffle=True)\n",
        "val_dataloader = DataLoader(d_val, batch_size=config['BATCH_SIZE'], shuffle=True)\n",
        "test_dataloader = DataLoader(d_test, batch_size=config['BATCH_SIZE'], shuffle=False)\n",
        "\n",
        "\n",
        "edge_index = torch.zeros((2, config['N_NODE']**2), dtype=torch.long)\n",
        "# create an edge_attr matrix with our weights  (num_edges x 1) --> our edge features are dim 1\n",
        "edge_attr = torch.zeros((config['N_NODE']**2, 1))\n",
        "num_edges = 0\n",
        "for i in range(config['N_NODE']):\n",
        "    for j in range(config['N_NODE']):\n",
        "        if W[i, j] != 0.:\n",
        "            edge_index[0, num_edges] = i\n",
        "            edge_index[1, num_edges] = j\n",
        "            edge_attr[num_edges] = W[i, j]\n",
        "            num_edges += 1\n",
        "\n",
        "\n",
        "# using resize_ to just keep the first num_edges entries\n",
        "edge_index = edge_index.resize_(2, num_edges).to(device)\n",
        "#print(edge_index.size())\n",
        "edge_attr = edge_attr.resize_(num_edges, 1).to(device)\n",
        "\n",
        "\n",
        "mean, std_dev =  2.6225484224593916, 10.46861919110906 # taxis: 2.6225484224593916, 10.46861919110906\n",
        "\n",
        "# 0.21459733142892176, 0.9983478235701564 bike\n",
        "\n"
      ]
    },
    {
      "cell_type": "code",
      "source": [
        "model = model_train(train_dataloader, val_dataloader, config, device, edge_index)"
      ],
      "metadata": {
        "colab": {
          "base_uri": "https://localhost:8080/"
        },
        "id": "2sWgk04stDGB",
        "outputId": "02551ccb-c951-441f-f469-d0e90401bb93"
      },
      "execution_count": null,
      "outputs": [
        {
          "output_type": "stream",
          "name": "stderr",
          "text": [
            "Epoch 0: 100%|██████████| 548/548 [00:26<00:00, 20.32it/s]\n"
          ]
        },
        {
          "output_type": "stream",
          "name": "stdout",
          "text": [
            "Loss: 0.581\n"
          ]
        },
        {
          "output_type": "stream",
          "name": "stderr",
          "text": [
            "Epoch 1: 100%|██████████| 548/548 [00:24<00:00, 22.15it/s]\n"
          ]
        },
        {
          "output_type": "stream",
          "name": "stdout",
          "text": [
            "Loss: 0.331\n"
          ]
        },
        {
          "output_type": "stream",
          "name": "stderr",
          "text": [
            "Epoch 2: 100%|██████████| 548/548 [00:24<00:00, 22.45it/s]\n"
          ]
        },
        {
          "output_type": "stream",
          "name": "stdout",
          "text": [
            "Loss: 0.379\n"
          ]
        },
        {
          "output_type": "stream",
          "name": "stderr",
          "text": [
            "Epoch 3: 100%|██████████| 548/548 [00:24<00:00, 22.41it/s]\n"
          ]
        },
        {
          "output_type": "stream",
          "name": "stdout",
          "text": [
            "Loss: 0.411\n"
          ]
        },
        {
          "output_type": "stream",
          "name": "stderr",
          "text": [
            "Epoch 4: 100%|██████████| 548/548 [00:24<00:00, 22.27it/s]\n"
          ]
        },
        {
          "output_type": "stream",
          "name": "stdout",
          "text": [
            "Loss: 0.439\n"
          ]
        },
        {
          "output_type": "stream",
          "name": "stderr",
          "text": [
            "Epoch 5: 100%|██████████| 548/548 [00:24<00:00, 22.32it/s]\n"
          ]
        },
        {
          "output_type": "stream",
          "name": "stdout",
          "text": [
            "Loss: 0.340\n"
          ]
        },
        {
          "output_type": "stream",
          "name": "stderr",
          "text": [
            "Epoch 6: 100%|██████████| 548/548 [00:25<00:00, 21.71it/s]\n"
          ]
        },
        {
          "output_type": "stream",
          "name": "stdout",
          "text": [
            "Loss: 0.502\n"
          ]
        },
        {
          "output_type": "stream",
          "name": "stderr",
          "text": [
            "Epoch 7: 100%|██████████| 548/548 [00:24<00:00, 22.37it/s]\n"
          ]
        },
        {
          "output_type": "stream",
          "name": "stdout",
          "text": [
            "Loss: 0.292\n"
          ]
        },
        {
          "output_type": "stream",
          "name": "stderr",
          "text": [
            "Epoch 8: 100%|██████████| 548/548 [00:24<00:00, 22.36it/s]\n"
          ]
        },
        {
          "output_type": "stream",
          "name": "stdout",
          "text": [
            "Loss: 0.197\n"
          ]
        },
        {
          "output_type": "stream",
          "name": "stderr",
          "text": [
            "Epoch 9: 100%|██████████| 548/548 [00:24<00:00, 22.36it/s]\n"
          ]
        },
        {
          "output_type": "stream",
          "name": "stdout",
          "text": [
            "Loss: 0.390\n",
            "tensor(0.6208, device='cuda:0')\n",
            "tensor(0.7274, device='cuda:0')\n"
          ]
        }
      ]
    },
    {
      "cell_type": "code",
      "execution_count": null,
      "metadata": {
        "id": "HC-ByCqiKFZ6",
        "colab": {
          "base_uri": "https://localhost:8080/"
        },
        "outputId": "afbc62b2-8dd9-4990-e33a-c531c317a323"
      },
      "outputs": [
        {
          "output_type": "stream",
          "name": "stdout",
          "text": [
            "tensor(2.1634, device='cuda:0')\n",
            "tensor(2.1634, device='cuda:0') tensor(0.6683, device='cuda:0') tensor(1.2033, device='cuda:0')\n"
          ]
        }
      ],
      "source": [
        "checkpoint = torch.load(\"/GoogleDrive/My Drive/Colab Notebooks/datasets/runs/modelbesttaxifull_30epochs_128.pt\")#,map_location=torch.device('cpu'))\n",
        "#print(checkpoint[\"epoch\"])\n",
        "\n",
        "model1 = ST_GAT(in_channels=config['N_HIST'], out_channels=config['N_PRED'], n_nodes=config['N_NODE'], dropout=config['DROPOUT'])\n",
        "model1.load_state_dict(checkpoint['model_state_dict'])\n",
        "\n",
        "rms,mae,quant, y_pred, y_truth = eval(model1, device, test_dataloader, 'Test')\n",
        "\n",
        "print(rms,mae,quant)\n"
      ]
    },
    {
      "cell_type": "code",
      "source": [
        "def top10top5eval():\n",
        "  top10 = [314, 363, 339, 360, 340, 361, 391, 313, 312, 292]#[87, 76, 183, 68, 78, 97, 84, 234, 71, 69]#[314, 363, 339, 360, 340, 361, 391, 313, 312, 292]\n",
        "  rmselist = []\n",
        "  upelist = []\n",
        "\n",
        "  for i in top10:\n",
        "    s = y_pred.shape\n",
        "    y_pred1 = y_pred.reshape(s[0], config['BATCH_SIZE'], config['N_NODE'], s[-1])\n",
        "    y_pred2 = y_pred1[:, :, i, :]\n",
        "    y_pred3 = torch.flatten(y_pred2)\n",
        "\n",
        "    s = y_truth.shape\n",
        "    y_truth1 = y_truth.reshape(s[0], config['BATCH_SIZE'], config['N_NODE'], s[-1])\n",
        "    y_truth2 = y_truth1[:, :, i, :]\n",
        "    y_truth3 = torch.flatten(y_truth2)\n",
        "\n",
        "    rmselist.append(RMSE(y_pred3,y_truth3).item())\n",
        "    upelist.append(UPE(y_pred3,y_truth3).item())\n",
        "\n",
        "\n",
        "  top10 = sum(rmselist)/10\n",
        "  top5 = sum(rmselist[-5:])/5\n",
        "  return round(top5,3), round(top10,3), round(sum(upelist[-5:])/5,3), round(sum(upelist)/10,3)"
      ],
      "metadata": {
        "id": "nY3QxGbswXtm"
      },
      "execution_count": null,
      "outputs": []
    },
    {
      "cell_type": "code",
      "source": [
        "print(top10top5eval())"
      ],
      "metadata": {
        "colab": {
          "base_uri": "https://localhost:8080/"
        },
        "id": "89sKfSpxwqFI",
        "outputId": "574302cd-31e1-4e8c-ccec-a1fdd85dcac2"
      },
      "execution_count": null,
      "outputs": [
        {
          "output_type": "stream",
          "name": "stdout",
          "text": [
            "(3.221, 2.916, 3.261, 2.972)\n"
          ]
        }
      ]
    },
    {
      "cell_type": "code",
      "source": [
        "#top50 bike stations: [239, 300, 320, 295, 233, 265, 268, 175, 146, 380, 263, 304, 294, 321, 317, 240, 303, 315, 144, 322, 291, 338, 316, 269, 319, 358, 343, 259, 366, 359, 344, 347, 383, 293, 357, 362, 342, 384, 364, 382, 314, 363, 339, 360, 340, 361, 391, 313, 312, 292]\n",
        "# how much they make up of the total 0.5887405118802201\n",
        "\n",
        "#top 50 taxi stations: [187, 179, 138, 108, 50, 67, 204, 257, 254, 231, 190, 106, 26, 107, 113, 47, 102, 105, 101, 121, 112, 140, 244, 72, 219, 77, 57, 22, 51, 60, 103, 139, 88, 91, 79, 239, 62, 73, 92, 65, 87, 76, 183, 68, 78, 97, 84, 234, 71, 69]\n",
        "#how much they make up of the total 0.9004108620253742\n",
        "\n",
        "\n",
        "def rmse50(y_pred, y_truth):\n",
        "  top10 = [239, 300, 320, 295, 233, 265, 268, 175, 146, 380, 263, 304, 294, 321, 317, 240, 303, 315, 144, 322, 291, 338, 316, 269, 319, 358, 343, 259, 366, 359, 344, 347, 383, 293, 357, 362, 342, 384, 364, 382, 314, 363, 339, 360, 340, 361, 391, 313, 312, 292]\n",
        "  rmse1 = 0\n",
        "  s = y_pred.shape\n",
        "  t = y_truth.shape\n",
        "\n",
        "  for i in top10:\n",
        "      pred = y_pred.reshape(s[0], config['BATCH_SIZE'], config['N_NODE'], s[-1])\n",
        "      pred = torch.flatten(pred[:, :, i, :])\n",
        "\n",
        "      truth = y_truth.reshape(t[0], config['BATCH_SIZE'], config['N_NODE'], t[-1])\n",
        "      truth = torch.flatten(truth[:, :, i, :])\n",
        "      rmse1 += RMSE(pred,truth).item()\n",
        "\n",
        "  rmse1 = round(rmse1/50,3)\n",
        "\n",
        "  return rmse1"
      ],
      "metadata": {
        "id": "qW3kGZWO6rhF"
      },
      "execution_count": null,
      "outputs": []
    },
    {
      "cell_type": "code",
      "source": [
        "#top50 bike stations: [239, 300, 320, 295, 233, 265, 268, 175, 146, 380, 263, 304, 294, 321, 317, 240, 303, 315, 144, 322, 291, 338, 316, 269, 319, 358, 343, 259, 366, 359, 344, 347, 383, 293, 357, 362, 342, 384, 364, 382, 314, 363, 339, 360, 340, 361, 391, 313, 312, 292]\n",
        "# how much they make up of the total 0.5887405118802201\n",
        "\n",
        "#top 50 taxi stations: [187, 179, 138, 108, 50, 67, 204, 257, 254, 231, 190, 106, 26, 107, 113, 47, 102, 105, 101, 121, 112, 140, 244, 72, 219, 77, 57, 22, 51, 60, 103, 139, 88, 91, 79, 239, 62, 73, 92, 65, 87, 76, 183, 68, 78, 97, 84, 234, 71, 69]\n",
        "#how much they make up of the total 0.9004108620253742\n",
        "\n",
        "\n",
        "def upe50(y_pred, y_truth):\n",
        "  top10 = [239, 300, 320, 295, 233, 265, 268, 175, 146, 380, 263, 304, 294, 321, 317, 240, 303, 315, 144, 322, 291, 338, 316, 269, 319, 358, 343, 259, 366, 359, 344, 347, 383, 293, 357, 362, 342, 384, 364, 382, 314, 363, 339, 360, 340, 361, 391, 313, 312, 292]\n",
        "  rmse1 = 0\n",
        "  s = y_pred.shape\n",
        "  t = y_truth.shape\n",
        "\n",
        "  for i in top10:\n",
        "      pred = y_pred.reshape(s[0], config['BATCH_SIZE'], config['N_NODE'], s[-1])\n",
        "      pred = torch.flatten(pred[:, :, i, :])\n",
        "\n",
        "      truth = y_truth.reshape(t[0], config['BATCH_SIZE'], config['N_NODE'], t[-1])\n",
        "      truth = torch.flatten(truth[:, :, i, :])\n",
        "      rmse1 += UPE(pred,truth).item()\n",
        "\n",
        "  rmse1 = round(rmse1/50,3)\n",
        "\n",
        "  return rmse1"
      ],
      "metadata": {
        "id": "DxtXgv6F873X"
      },
      "execution_count": null,
      "outputs": []
    },
    {
      "cell_type": "code",
      "source": [
        "print(rmse50(y_pred,y_truth))"
      ],
      "metadata": {
        "colab": {
          "base_uri": "https://localhost:8080/"
        },
        "id": "SWDiiDXY-L0k",
        "outputId": "936b5283-96ef-4c18-9d15-7d109834f334"
      },
      "execution_count": null,
      "outputs": [
        {
          "output_type": "stream",
          "name": "stdout",
          "text": [
            "1.648\n"
          ]
        }
      ]
    },
    {
      "cell_type": "code",
      "source": [
        "print(upe50(y_pred,y_truth))"
      ],
      "metadata": {
        "colab": {
          "base_uri": "https://localhost:8080/"
        },
        "id": "LzJkChnf91yQ",
        "outputId": "2a90f619-9031-46b0-d1e9-759310cbe07f"
      },
      "execution_count": null,
      "outputs": [
        {
          "output_type": "stream",
          "name": "stdout",
          "text": [
            "1.76\n"
          ]
        }
      ]
    },
    {
      "cell_type": "code",
      "source": [
        "import matplotlib.dates as mdates\n",
        "import matplotlib.pyplot as plt\n",
        "from datetime import datetime, timedelta\n",
        "\n",
        "def plot_prediction(test_dataloader, y_pred, y_truth, node, config, window,days):\n",
        "    # Calculate the truth\n",
        "    s = y_truth.shape\n",
        "    y_truth = y_truth.reshape(s[0], config['BATCH_SIZE'], config['N_NODE'], s[-1])\n",
        "    # just get the first prediction out for the nth node\n",
        "    y_truth = y_truth[:, :, node, window]\n",
        "    # Flatten to get the predictions for entire test dataset\n",
        "    y_truth = torch.flatten(y_truth)\n",
        "    day0_truth = y_truth[(days[0]*config['N_SLOT']):(days[1]*config['N_SLOT'])]\n",
        "\n",
        "\n",
        "    # Calculate the predicted\n",
        "    s = y_pred.shape\n",
        "    y_pred = y_pred.reshape(s[0], config['BATCH_SIZE'], config['N_NODE'], s[-1])\n",
        "    # just get the first prediction out for the nth node\n",
        "    y_pred = y_pred[:, :, node, window]\n",
        "    # Flatten to get the predictions for entire test dataset\n",
        "    y_pred = torch.flatten(y_pred)\n",
        "    # Just grab the first day\n",
        "    day0_pred = y_pred[(days[0]*config['N_SLOT']):(days[1]*config['N_SLOT'])]\n",
        "    extra = 8 * 15\n",
        "    t = []\n",
        "\n",
        "    for i in range((days[1]-days[0]) * config['N_SLOT']):\n",
        "      if i % config['N_SLOT'] == 0 and i > 0:\n",
        "        extra+= (config['N_PRED'] + config['N_HIST'] + config['SHIFT'] - 1) * 15\n",
        "      val = days[0]*96*15 + 15 * (i+window) + extra\n",
        "      t.append(val)\n",
        "\n",
        "    start_date = datetime(2019, 1, 1)\n",
        "    t_dates = [start_date + timedelta(minutes=minutes) for minutes in t]\n",
        "    fig, ax = plt.subplots()\n",
        "\n",
        "    # Plotting\n",
        "    ax.plot(t_dates, day0_pred, label='ST-GAT')\n",
        "    ax.plot(t_dates, day0_truth, label='truth')\n",
        "\n",
        "    # Set x-axis to display dates in a nice format\n",
        "    ax.xaxis.set_major_formatter(mdates.DateFormatter('%Y-%m-%d %H:%M'))\n",
        "    # Auto-rotate the x-axis labels\n",
        "    fig.autofmt_xdate()\n",
        "\n",
        "    ax.set_xlabel('Date and Time')\n",
        "    ax.set_ylabel('Taxi demand prediction')\n",
        "\n",
        "    ax.set_title('Predictions of Taxi Demand over Time')\n",
        "    ax.legend()\n",
        "\n",
        "    plt.title('Predictions of Taxi Bicycle over Time')\n",
        "    plt.legend()\n",
        "    plt.savefig('predicted_times.png')\n",
        "    plt.show()"
      ],
      "metadata": {
        "id": "RgLvU3NBc4ft"
      },
      "execution_count": null,
      "outputs": []
    },
    {
      "cell_type": "code",
      "execution_count": null,
      "metadata": {
        "id": "TuMiNg0vKGNL",
        "colab": {
          "base_uri": "https://localhost:8080/",
          "height": 489
        },
        "outputId": "df1e40e1-996f-46db-de28-fe9c748d7d6f"
      },
      "outputs": [
        {
          "output_type": "display_data",
          "data": {
            "text/plain": [
              "<Figure size 640x480 with 1 Axes>"
            ],
            "image/png": "[encoded data removed]"
          },
          "metadata": {}
        }
      ],
      "source": [
        "plot_prediction(test_dataloader, y_pred, y_truth, 69, config, 0, [175,176]) #69, 71, 78, 84, 97 taxis\n",
        "# bikes: 292, 312, 313\n"
      ]
    },
    {
      "cell_type": "code",
      "source": [
        "import matplotlib.pyplot as plt\n",
        "import torch\n",
        "\n",
        "checkpoint = torch.load(\"/GoogleDrive/My Drive/Colab Notebooks/datasets/runs/modeltaxifull_60epochs_1024.pt\",map_location=torch.device('cpu')) #60 runs: model_07-02-141615\n",
        "losses = [i.item() for i in checkpoint[\"loss\"]]\n",
        "\n",
        "def plot_losses(losses):\n",
        "    epochs = range(1, len(losses) + 1)\n",
        "\n",
        "    plt.plot(epochs, losses, 'b', label='Loss')\n",
        "    plt.title('Loss (MSE) over Epochs for the Taxi Data')\n",
        "    plt.xlabel('Epoch')\n",
        "    plt.ylabel('Loss')\n",
        "    plt.legend()\n",
        "    plt.show()\n",
        "\n",
        "\n",
        "plot_losses(losses)"
      ],
      "metadata": {
        "id": "5IQAGathqDzC",
        "colab": {
          "base_uri": "https://localhost:8080/",
          "height": 472
        },
        "outputId": "cc5266a0-aa5b-400a-a016-b696f4f43a94"
      },
      "execution_count": null,
      "outputs": [
        {
          "output_type": "display_data",
          "data": {
            "text/plain": [
              "<Figure size 640x480 with 1 Axes>"
            ],
            "image/png": "[encoded data removed]"
          },
          "metadata": {}
        }
      ]
    }
  ],
  "metadata": {
    "colab": {
      "provenance": [],
      "gpuType": "T4"
    },
    "kernelspec": {
      "display_name": "Python 3",
      "name": "python3"
    },
    "language_info": {
      "codemirror_mode": {
        "name": "ipython",
        "version": 3
      },
      "file_extension": ".py",
      "mimetype": "text/x-python",
      "name": "python",
      "nbconvert_exporter": "python",
      "pygments_lexer": "ipython3",
      "version": "3.6.7"
    },
    "accelerator": "GPU"
  },
  "nbformat": 4,
  "nbformat_minor": 0
}